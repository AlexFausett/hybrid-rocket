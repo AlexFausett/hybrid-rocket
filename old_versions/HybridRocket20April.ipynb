{
 "cells": [
  {
   "cell_type": "code",
   "execution_count": null,
   "id": "3a855d69",
   "metadata": {},
   "outputs": [],
   "source": [
    "# from IPython import get_ipython\n",
    "# get_ipython().run_line_magic('matplotlib', 'widget')\n",
    "\n",
    "import math\n",
    "import cmath\n",
    "import numpy as np \n",
    "import pandas as pd\n",
    "import matplotlib.pyplot as plt\n",
    "import tkinter as tk \n",
    "from tkinter import filedialog"
   ]
  },
  {
   "attachments": {},
   "cell_type": "markdown",
   "id": "67e18e2b",
   "metadata": {},
   "source": [
    "## Fuel Grain Mass and Area"
   ]
  },
  {
   "cell_type": "code",
   "execution_count": null,
   "id": "ef3e709b",
   "metadata": {},
   "outputs": [],
   "source": [
    "def fuel_effective_grain_area(r):\n",
    "    return math.pi * r**2 # A = pi*r^2"
   ]
  },
  {
   "cell_type": "code",
   "execution_count": null,
   "id": "b300acb7",
   "metadata": {},
   "outputs": [],
   "source": [
    "def fuel_mass(r, h):\n",
    "    paraffin_d = 900; # kg/m3\\n\",\n",
    "    return (math.pi * r**2 * h) * paraffin_d # pi*r^2*h*paraffin density\""
   ]
  },
  {
   "attachments": {},
   "cell_type": "markdown",
   "id": "f324abab",
   "metadata": {},
   "source": [
    "## Reading Files\n",
    "Reads NASA CEA data formatted into four .txt files. Outputs used: T, K; MW, (1/n); GAMMAs; P, BAR"
   ]
  },
  {
   "cell_type": "code",
   "execution_count": null,
   "id": "956eb653",
   "metadata": {},
   "outputs": [],
   "source": [
    "def read_files():\n",
    "    \n",
    "    # OF temps\n",
    "    print(\"Select temps file: \")\n",
    "    Tdata = filedialog.askopenfilename()\n",
    "    print(\"Selected file path: \", Tdata)\n",
    "    with open(Tdata, 'r') as file:\n",
    "        T_array = [float(line.strip()) for line in file.readlines()]\n",
    "    \n",
    "    # Molar mass of exhaust gases\n",
    "    print(\"Select Molar Mass file: \")\n",
    "    Mdata = filedialog.askopenfilename()\n",
    "    print(\"Selected file path: \", Mdata)\n",
    "    with open(Mdata, 'r') as file:\n",
    "        M_array = [float(line.strip()) for line in file.readlines()]\n",
    "    \n",
    "    # Gamma\n",
    "    print(\"Select Gamma file: \")\n",
    "    Gdata = filedialog.askopenfilename()\n",
    "    print(\"Selected file path: \", Gdata)\n",
    "    with open(Gdata, 'r') as file:\n",
    "        G_array = [float(line.strip()) for line in file.readlines()]\n",
    "\n",
    "    # Chamber Pressures\n",
    "    print(\"Select Chamber Pressures file: \")\n",
    "    PcData = filedialog.askopenfilename()\n",
    "    print(\"Selected file path: \", PcData)\n",
    "    with open(PcData, 'r') as file:\n",
    "        Pc_array = [float(line.strip()) for line in file.readlines()]\n",
    "\n",
    "    return T_array, M_array, G_array, Pc_array"
   ]
  },
  {
   "attachments": {},
   "cell_type": "markdown",
   "id": "6db98702",
   "metadata": {},
   "source": [
    "## Solving for Pe using the Newton-Raphson method"
   ]
  },
  {
   "cell_type": "code",
   "execution_count": null,
   "id": "e4513193",
   "metadata": {},
   "outputs": [],
   "source": [
    "def Pe(E, gm1, pr, g, gp1, gm1g):\n",
    "    # Calculate the exit pressure ratio from the given formula\n",
    "    return 1.0 / E - ((gp1 / 2.0)**(1.0 / gm1)) * (pr**(1.0 / g)) * cmath.sqrt((gp1 / gm1) * (1.0 - (pr ** gm1g)))"
   ]
  },
  {
   "cell_type": "code",
   "execution_count": null,
   "id": "4a69520c",
   "metadata": {},
   "outputs": [],
   "source": [
    "def dPe(E, gm1, pr, g, gp1, gm1g):\n",
    "# Calculate the numerical approximation of the derivative of the exit pressure ratio with respect to pressure ratio\n",
    "    \n",
    "    # step size for numerical approximation\n",
    "    step = 10**-8\n",
    "    \n",
    "    # approximates the slope of the function at the point (pr, Pe(pr))\n",
    "    numerator = Pe(E, gm1, pr + step, g, gp1, gm1g) - Pe(E, gm1, pr, g, gp1, gm1g) \n",
    "    denominator = step\n",
    "    \n",
    "    # if the denominator = 0, set it to a small value\n",
    "    if abs(denominator) < 1e-10:\n",
    "        denominator = 1e-10\n",
    "    \n",
    "    return numerator / denominator"
   ]
  },
  {
   "cell_type": "code",
   "execution_count": null,
   "id": "02b92570",
   "metadata": {},
   "outputs": [],
   "source": [
    "def pratio(kappa, E):\n",
    "    \n",
    "    gm1 = kappa - 1.0\n",
    "    gp1 = kappa + 1.0\n",
    "    gm1g = gm1 / kappa\n",
    "    g = kappa\n",
    "\n",
    "    # Set initial conditions\n",
    "    pr0 = 0.001 # Initial guess for the pressure ratio\n",
    "    Err = 0.1 # Initial error\n",
    "    pr = 0.0 # Initial pressure ratio\n",
    "\n",
    "    # Iterate until the desired accuracy is achieved\n",
    "    i = 0\n",
    "    while Err > 0.0001:\n",
    "        # Calculate the pressure ratio using Newton-Raphson method\n",
    "        pr = pr0 - Pe(E, gm1, pr0, g, gp1, gm1g) / dPe(E, gm1, pr0, g, gp1, gm1g) # Newton-Raphson method: x(n+1) = x(n) - f(x(n))/f'(x(n))\n",
    "        Err = abs((pr - pr0) / pr0) \n",
    "        pr0 = pr \n",
    "        i += 1\n",
    "\n",
    "    # print(\"Solution of nonlinear equation for Pressure ratio:\", pr, \"after\", i, \"iterations\")\n",
    "    return pr"
   ]
  },
  {
   "cell_type": "markdown",
   "id": "85f18294",
   "metadata": {},
   "source": [
    "## Hybrid Rocket Thrust"
   ]
  },
  {
   "cell_type": "code",
   "execution_count": null,
   "id": "2d87992f",
   "metadata": {},
   "outputs": [],
   "source": [
    "def hybrid_rocket_thrust(r, h, T_array, M_array, G_array, Pc_array):\n",
    "    \n",
    "    # Fuel Mass\n",
    "    m_f = fuel_mass(r, h)\n",
    "\n",
    "    R = 8.3144598 # J/mol*K\n",
    "    \n",
    "    # Molecular Weights\n",
    "    MW_fuel = 352     # g/mol, molecular weight of fuel (paraffin)\n",
    "    MW_oxidizer = 32     # g/mol, molecular weight of oxidizer (O2)\n",
    "    \n",
    "    # Oxidizer Flow Rate (O2)\n",
    "    m_o = 0.01429\n",
    "    \n",
    "    # Mass flux oxidizer (total)\n",
    "    j_m = (m_o)/(math.pi * r**2) \n",
    "    \n",
    "    # Regression rate \n",
    "    rdot = 0.304 * j_m**0.527\n",
    "\n",
    "    # Area of the fuel grain\n",
    "    A_f = fuel_effective_grain_area(r)\n",
    "    \n",
    "    # Fuel Mass Flow Rate\n",
    "    mdot_f = 900 * A_f * rdot \n",
    "    \n",
    "    # Mass Flow Rate\n",
    "    mdot_total = m_o + mdot_f \n",
    "\n",
    "    # Oxidizer to Fuel Ratio\n",
    "    OF_ratio = m_o/m_f\n",
    "    \n",
    "    for t in T_array:\n",
    "        for m in M_array:\n",
    "            for k in G_array:\n",
    "                for Pc in Pc_array:\n",
    "                    \n",
    "                    # Convert Bar to Pa\n",
    "                    Pc_Pa = Pc * 100000 \n",
    "                    \n",
    "                    # Exit Pressure, assuming isentropic expansion. Derived from the ideal gas law P2/P1 = (T2/T1)**(k/(k-1)).\n",
    "                    E = Pc_Pa * (2/(k+1))**(k/(k-1)) \n",
    "                    \n",
    "                    # Exit Pressure Ratio\n",
    "                    Pe = pratio(k, E)\n",
    "                    \n",
    "                    # Calculate the exit velocity\n",
    "                    v_e = np.sqrt((t*8.3144598)/m)*np.sqrt((2*k/k-1))*(1-(Pe/Pc_Pa)**((k-1)/k))\n",
    "\n",
    "                    # Calculate the rocket thrust\n",
    "                    thrust = (m_o + m_f) * v_e\n",
    "\n",
    "    # Return the calculated thrust\n",
    "    return thrust"
   ]
  },
  {
   "cell_type": "markdown",
   "id": "235bfd6c",
   "metadata": {},
   "source": [
    "## Thrust with different fuel grain sizes"
   ]
  },
  {
   "cell_type": "code",
   "execution_count": null,
   "id": "d33a480f",
   "metadata": {},
   "outputs": [],
   "source": [
    "def plotThrust(r, h, thrust, T_array, M_array, G_array, Pc_array):\n",
    "    \n",
    "    plt.figure()\n",
    "    \n",
    "    radii = [0.01, 0.02, 0.03, 0.04, 0.05, 0.06, 0.07, 0.08, 0.09, 0.1]  # fuel grain radii  m\n",
    "    heights = [0.2, 0.3, 0.4, 0.5, 0.6, 0.7, 0.8, 0.9, 1.0]  # fuel grain heights  m\n",
    "    \n",
    "    volArr = np.array([])\n",
    "    thrustArr = np.array([])\n",
    "    \n",
    "    for r in radii:\n",
    "        for h in heights:\n",
    "            # Put data into arrays\n",
    "            thrust = hybrid_rocket_thrust(r, h, T_array, M_array, G_array, Pc_array)\n",
    "            volume = np.pi*r**2*h\n",
    "            \n",
    "            thrustArr = np.append(thrustArr, [thrust]) \n",
    "            volArr = np.append(volArr, [volume]) \n",
    "    \n",
    "    # Plotting the points\n",
    "    \n",
    "    plt.plot(thrustArr, volArr, marker='.', linestyle='-', color='tab:pink', label='1')\n",
    "    \n",
    "    plt.xlabel('Thrust (N)')\n",
    "    plt.ylabel('Volume of Fuel Grain (m^3)')\n",
    "  \n",
    "    plt.title('Hybrid Rocket Thrust')\n",
    "    \n",
    "    \n",
    "    plt.show()"
   ]
  },
  {
   "cell_type": "code",
   "execution_count": null,
   "id": "62f8575c",
   "metadata": {},
   "outputs": [],
   "source": [
    "# different fuel grain sizes\n",
    "radii = [0.01, 0.02, 0.03, 0.04, 0.05, 0.06, 0.07, 0.08, 0.09, 0.1]  # fuel grain radii  m\n",
    "heights = [0.2, 0.3, 0.4, 0.5, 0.6, 0.7, 0.8, 0.9, 1.0]  # fuel grain heights  m\n",
    "\n",
    "# Initialise data\n",
    "T_array, M_array, G_array, Pc_array = read_files()\n",
    "\n",
    "thrust_values = []\n",
    "\n",
    "for r in radii:\n",
    "    for h in heights:\n",
    "        \n",
    "        # Calculate the thrust\n",
    "        thrust = hybrid_rocket_thrust(r, h, T_array, M_array, G_array, Pc_array)\n",
    "        thrust_values.append((r, h, thrust))  # store the radius, height, and thrust values in the list\n",
    "       \n",
    "        volume = np.pi*r**2*h\n",
    "        mass = volume*900\n",
    "        \n",
    "        # Calculate the thrust to mass ratio\n",
    "        t2 = (thrust/10)/mass\n",
    "        \n",
    "        # print(\"Radius = \", r, \"Height = \", h, \"Thrust = \", thrust2dp, \"N (2dp)\", \"mass = \",  mass, \"t2 = \", t2.real)\n",
    "\n",
    "# Sort the thrust values in descending order and print the top 5\n",
    "sorted_thrust_values = sorted(thrust_values, key=lambda x: x[2].real, reverse=True)\n",
    "print(\"Top 5 Thrust Values\")\n",
    "\n",
    "for i in range(5):\n",
    "    r, h, thrust = sorted_thrust_values[i]\n",
    "    thrust2dp = round(thrust.real, 2)\n",
    "    print(f\"Radius = {r}, Height = {h}, Thrust = {thrust2dp} N (2dp)\")\n",
    "\n",
    "plotThrust(radii, heights, thrust, T_array, M_array, G_array, Pc_array)"
   ]
  }
 ],
 "metadata": {
  "kernelspec": {
   "display_name": "miniconda",
   "language": "python",
   "name": "python3"
  },
  "language_info": {
   "codemirror_mode": {
    "name": "ipython",
    "version": 3
   },
   "file_extension": ".py",
   "mimetype": "text/x-python",
   "name": "python",
   "nbconvert_exporter": "python",
   "pygments_lexer": "ipython3",
   "version": "3.11.2"
  },
  "vscode": {
   "interpreter": {
    "hash": "66504de0dde1a8ad6f44a2e35c806d9e000b92ae714d04f970ffba3a7b80f4b6"
   }
  }
 },
 "nbformat": 4,
 "nbformat_minor": 5
}
